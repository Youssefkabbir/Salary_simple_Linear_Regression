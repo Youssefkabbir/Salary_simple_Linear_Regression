{
 "cells": [
  {
   "cell_type": "code",
   "execution_count": 62,
   "id": "4b182581",
   "metadata": {},
   "outputs": [
    {
     "name": "stdout",
     "output_type": "stream",
     "text": [
      "the cell was executed without error\n"
     ]
    }
   ],
   "source": [
    "import numpy as np\n",
    "import pandas as pd\n",
    "import seaborn as sns \n",
    "import matplotlib.pyplot as mtp\n",
    "print ('the cell was executed without error')"
   ]
  },
  {
   "cell_type": "code",
   "execution_count": 63,
   "id": "e2bcb955",
   "metadata": {},
   "outputs": [
    {
     "data": {
      "text/plain": [
       "IPython.core.display.HTML"
      ]
     },
     "execution_count": 63,
     "metadata": {},
     "output_type": "execute_result"
    }
   ],
   "source": [
    "import session_info\n",
    "Packages=session_info.show()\n",
    "type(Packages)"
   ]
  },
  {
   "cell_type": "code",
   "execution_count": 64,
   "id": "051b2f57",
   "metadata": {},
   "outputs": [],
   "source": [
    "Packages=\"\"\"matplotlib          3.7.1\n",
    "numpy               1.23.5\n",
    "pandas              1.5.2\n",
    "seaborn             0.12.2\n",
    "session_info        1.0.0 \"\"\""
   ]
  },
  {
   "cell_type": "code",
   "execution_count": 65,
   "id": "3190a1f5",
   "metadata": {},
   "outputs": [
    {
     "data": {
      "text/plain": [
       "'matplotlib          3.7.1\\nnumpy               1.23.5\\npandas              1.5.2\\nseaborn             0.12.2\\nsession_info        1.0.0 '"
      ]
     },
     "execution_count": 65,
     "metadata": {},
     "output_type": "execute_result"
    }
   ],
   "source": [
    "PackagesL=Packages.splitlines()\n",
    "PackagesL\n"
   ]
  },
  {
   "cell_type": "code",
   "execution_count": 66,
   "id": "8695d057",
   "metadata": {},
   "outputs": [
    {
     "data": {
      "text/plain": [
       "list"
      ]
     },
     "execution_count": 66,
     "metadata": {},
     "output_type": "execute_result"
    }
   ],
   "source": [
    "type(PackagesL)"
   ]
  },
  {
   "cell_type": "code",
   "execution_count": 76,
   "id": "4bfeb230",
   "metadata": {},
   "outputs": [
    {
     "name": "stdout",
     "output_type": "stream",
     "text": [
      "matplotlib==3.7.1\n",
      "numpy==1.23.5\n",
      "pandas==1.5.2\n",
      "seaborn==0.12.2\n",
      "session_info==1.0.0\n",
      "\n"
     ]
    }
   ],
   "source": [
    "f1 = \"\"\n",
    "\n",
    "for i in PackagesL:\n",
    "    i=\" \".join(i.split())\n",
    "    i=i.replace(\" \",\"==\")\n",
    "\n",
    "    f1 += str(i)+ \"\\n\" \n",
    "\n",
    "print(f1)"
   ]
  },
  {
   "cell_type": "code",
   "execution_count": 78,
   "id": "08433581",
   "metadata": {},
   "outputs": [
    {
     "name": "stdout",
     "output_type": "stream",
     "text": [
      "82\n"
     ]
    }
   ],
   "source": [
    "file = open(\"requirements.txt\", \"w\")\n",
    "a = file.write(f1)\n",
    "file.close()\n",
    "print(a)"
   ]
  },
  {
   "cell_type": "code",
   "execution_count": null,
   "id": "2ddbdab9",
   "metadata": {},
   "outputs": [],
   "source": []
  }
 ],
 "metadata": {
  "kernelspec": {
   "display_name": "Python 3 (ipykernel)",
   "language": "python",
   "name": "python3"
  },
  "language_info": {
   "codemirror_mode": {
    "name": "ipython",
    "version": 3
   },
   "file_extension": ".py",
   "mimetype": "text/x-python",
   "name": "python",
   "nbconvert_exporter": "python",
   "pygments_lexer": "ipython3",
   "version": "3.8.16"
  }
 },
 "nbformat": 4,
 "nbformat_minor": 5
}
