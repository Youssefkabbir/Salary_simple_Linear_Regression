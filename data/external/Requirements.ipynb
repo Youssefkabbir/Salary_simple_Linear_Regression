{
 "cells": [
  {
   "cell_type": "markdown",
   "id": "26302c5d",
   "metadata": {},
   "source": [
    "# import the required Libraries"
   ]
  },
  {
   "cell_type": "code",
   "execution_count": 62,
   "id": "4b182581",
   "metadata": {},
   "outputs": [
    {
     "name": "stdout",
     "output_type": "stream",
     "text": [
      "the cell was executed without error\n"
     ]
    }
   ],
   "source": [
    "import numpy as np\n",
    "import pandas as pd\n",
    "import seaborn as sns \n",
    "import matplotlib.pyplot as mtp\n",
    "print ('the cell was executed without error')"
   ]
  },
  {
   "cell_type": "markdown",
   "id": "3c9040f4",
   "metadata": {},
   "source": [
    "# import session_info that let us to know which models are used on this file"
   ]
  },
  {
   "cell_type": "markdown",
   "id": "2631710b",
   "metadata": {},
   "source": [
    "import session_info\n",
    "Packages=session_info.show()\n",
    "Packages"
   ]
  },
  {
   "cell_type": "code",
   "execution_count": 5,
   "id": "44f8d080",
   "metadata": {},
   "outputs": [
    {
     "data": {
      "text/plain": [
       "IPython.core.display.HTML"
      ]
     },
     "execution_count": 5,
     "metadata": {},
     "output_type": "execute_result"
    }
   ],
   "source": [
    "type(Packages)"
   ]
  },
  {
   "cell_type": "markdown",
   "id": "cd42c788",
   "metadata": {},
   "source": [
    "# Create a string that  includ our model"
   ]
  },
  {
   "cell_type": "code",
   "execution_count": 10,
   "id": "051b2f57",
   "metadata": {},
   "outputs": [],
   "source": [
    "Packages=\"\"\"matplotlib          3.7.1\n",
    "numpy               1.23.5\n",
    "pandas              1.5.2\n",
    "seaborn             0.12.2\n",
    "session_info        1.0.0 \"\"\""
   ]
  },
  {
   "cell_type": "markdown",
   "id": "57ddf4a0",
   "metadata": {},
   "source": [
    "# Split a string into a list where each line is a list item"
   ]
  },
  {
   "cell_type": "code",
   "execution_count": 11,
   "id": "3190a1f5",
   "metadata": {},
   "outputs": [
    {
     "data": {
      "text/plain": [
       "['matplotlib          3.7.1',\n",
       " 'numpy               1.23.5',\n",
       " 'pandas              1.5.2',\n",
       " 'seaborn             0.12.2',\n",
       " 'session_info        1.0.0 ']"
      ]
     },
     "execution_count": 11,
     "metadata": {},
     "output_type": "execute_result"
    }
   ],
   "source": [
    "PackagesL=Packages.splitlines()\n",
    "PackagesL\n"
   ]
  },
  {
   "cell_type": "code",
   "execution_count": 66,
   "id": "8695d057",
   "metadata": {},
   "outputs": [
    {
     "data": {
      "text/plain": [
       "list"
      ]
     },
     "execution_count": 66,
     "metadata": {},
     "output_type": "execute_result"
    }
   ],
   "source": [
    "type(PackagesL)"
   ]
  },
  {
   "cell_type": "code",
   "execution_count": 76,
   "id": "4bfeb230",
   "metadata": {},
   "outputs": [
    {
     "name": "stdout",
     "output_type": "stream",
     "text": [
      "matplotlib==3.7.1\n",
      "numpy==1.23.5\n",
      "pandas==1.5.2\n",
      "seaborn==0.12.2\n",
      "session_info==1.0.0\n",
      "\n"
     ]
    }
   ],
   "source": [
    "content = \"\"\n",
    "\n",
    "for item in PackagesL:\n",
    "    item=\" \".join(item.split())\n",
    "    item=item.replace(\" \",\"==\")\n",
    "\n",
    "    content += str(item)+ \"\\n\" \n",
    "\n",
    "print(content)"
   ]
  },
  {
   "cell_type": "markdown",
   "id": "ffd12bb2",
   "metadata": {},
   "source": [
    "# Generate the requirements.txt file "
   ]
  },
  {
   "cell_type": "code",
   "execution_count": 78,
   "id": "08433581",
   "metadata": {},
   "outputs": [
    {
     "name": "stdout",
     "output_type": "stream",
     "text": [
      "82\n"
     ]
    }
   ],
   "source": [
    "file = open(\"requirements.txt\", \"w\")\n",
    "a = file.write(content)\n",
    "file.close()\n",
    "print(a)"
   ]
  }
 ],
 "metadata": {
  "kernelspec": {
   "display_name": "Python 3 (ipykernel)",
   "language": "python",
   "name": "python3"
  },
  "language_info": {
   "codemirror_mode": {
    "name": "ipython",
    "version": 3
   },
   "file_extension": ".py",
   "mimetype": "text/x-python",
   "name": "python",
   "nbconvert_exporter": "python",
   "pygments_lexer": "ipython3",
   "version": "3.8.16"
  }
 },
 "nbformat": 4,
 "nbformat_minor": 5
}
